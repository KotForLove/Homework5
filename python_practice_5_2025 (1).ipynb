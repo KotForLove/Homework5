{
  "nbformat": 4,
  "nbformat_minor": 0,
  "metadata": {
    "colab": {
      "provenance": []
    },
    "kernelspec": {
      "name": "python3",
      "display_name": "Python 3"
    },
    "language_info": {
      "name": "python"
    }
  },
  "cells": [
    {
      "cell_type": "markdown",
      "source": [
        "# I. OOP"
      ],
      "metadata": {
        "id": "5qV_sehzFCTp"
      }
    },
    {
      "cell_type": "markdown",
      "source": [
        "1. (6б). Створіть клас Building, додайте три атрибути, один з яких має значення за замовчуванням та два методи на свій розсуд."
      ],
      "metadata": {
        "id": "tx_U_hOALyfg"
      }
    },
    {
      "cell_type": "code",
      "source": [
        "class Building:\n",
        "    def __init__(self, address, floors, material=\"Concrete\"):\n",
        "        self.address = address\n",
        "        self.floors = floors\n",
        "        self.material = material\n",
        "\n",
        "    def describe(self):\n",
        "        return f\"Building at {self.address} has {self.floors} floors and is made of {self.material}.\"\n",
        "\n",
        "    def renovate(self, new_material):\n",
        "        self.material = new_material\n",
        "        return f\"The building at {self.address} has been renovated with {self.material}.\"\n",
        "\n",
        "# example\n",
        "b1 = Building(\"123 Main St\", 5)\n",
        "print(b1.describe())\n",
        "print(b1.renovate(\"Brick\"))"
      ],
      "metadata": {
        "id": "-Vf895KaL88N",
        "colab": {
          "base_uri": "https://localhost:8080/"
        },
        "outputId": "8bdb1a33-8ebe-467a-9964-f4b2bd5c439b"
      },
      "execution_count": null,
      "outputs": [
        {
          "output_type": "stream",
          "name": "stdout",
          "text": [
            "Building at 123 Main St has 5 floors and is made of Concrete.\n",
            "The building at 123 Main St has been renovated with Brick.\n"
          ]
        }
      ]
    },
    {
      "cell_type": "markdown",
      "source": [
        "2. (2б). Створіть два обʼєкти цього класу, де один з обʼєктів створюється із дефолтним значенням атрибуту. На одному обʼєкті отримайте значення його атрибуту, а на іншому викличте один з його методів."
      ],
      "metadata": {
        "id": "X_UlOMB0L93w"
      }
    },
    {
      "cell_type": "code",
      "source": [
        "class Building:\n",
        "    def __init__(self, address, floors, material=\"Concrete\"):\n",
        "        self.address = address\n",
        "        self.floors = floors\n",
        "        self.material = material\n",
        "\n",
        "    def describe(self):\n",
        "        return f\"Building at {self.address} has {self.floors} floors and is made of {self.material}.\"\n",
        "\n",
        "    def renovate(self, new_material):\n",
        "        self.material = new_material\n",
        "        return f\"The building at {self.address} has been renovated with {self.material}.\"\n",
        "\n",
        "# example\n",
        "b1 = Building(\"123 Main St\", 5)\n",
        "b2 = Building(\"456 Elm St\", 3, \"Wood\")\n",
        "\n",
        "# atribute\n",
        "print(f\"Material of b1: {b1.material}\")\n",
        "\n",
        "# calling atribute on a different object\n",
        "print(b2.renovate(\"Steel\"))"
      ],
      "metadata": {
        "id": "7gBu0ESOMCpG"
      },
      "execution_count": null,
      "outputs": []
    },
    {
      "cell_type": "markdown",
      "source": [
        "3. (5б). Створіть клас, де атрибути мають різні рівні доступу. Спробуйте отримати їхні значення та опишіть результати."
      ],
      "metadata": {
        "id": "HoqSCZt1MHn5"
      }
    },
    {
      "cell_type": "code",
      "source": [
        "class Building:\n",
        "    def __init__(self, address, floors, material=\"Concrete\"):\n",
        "        self.address = address         # public attribute\n",
        "        self._floors = floors          # protected attribute\n",
        "        self.__material = material     # private attribute\n",
        "\n",
        "    def describe(self):\n",
        "        return f\"Building at {self.address} has {self._floors} floors and is made of {self.__material}.\"\n",
        "\n",
        "    def renovate(self, new_material):\n",
        "        self.__material = new_material\n",
        "        return f\"The building at {self.address} has been renovated with {self.__material}.\"\n",
        "\n",
        "    def get_material(self):\n",
        "        return self.__material\n",
        "\n",
        "# example of use\n",
        "b1 = Building(\"123 Main St\", 5)\n",
        "b2 = Building(\"456 Elm St\", 3, \"Wood\")\n",
        "\n",
        "# results\n",
        "print(f\"Address of b1: {b1.address}\")  # we can get the resutlts\n",
        "print(f\"Floors of b1: {b1._floors}\")  # we can but not recomended\n",
        "\n",
        "# trying to get private attribute directly will get an errror\n",
        "# print(f\"Material of b1: {b1.__material}\")\n",
        "\n",
        "# private atribute through method\n",
        "print(f\"Material of b1 (через метод): {b1.get_material()}\")\n",
        "\n",
        "# different method\n",
        "print(b2.renovate(\"Steel\"))\n"
      ],
      "metadata": {
        "id": "r9b3vJxBMSPV"
      },
      "execution_count": null,
      "outputs": []
    },
    {
      "cell_type": "markdown",
      "source": [
        "4. (7б). Як ви розумієте термін self? Для чого використовується метод __init __?"
      ],
      "metadata": {
        "id": "5op2m2vgMSkZ"
      }
    },
    {
      "cell_type": "markdown",
      "source": [
        "\n",
        "У Python self використовується для позначення поточного екземпляра класу, що дозволяє звертатися до його атрибутів і методів. Це необхідно, щоб кожен об'єкт міг зберігати власні значення незалежно від інших екземплярів.\n",
        "\n",
        "Метод _init_ є конструктором класу, який автоматично викликається при створенні нового об'єкта. Він задає початкові значення атрибутів, забезпечуючи правильну ініціалізацію екземпляра."
      ],
      "metadata": {
        "id": "DyiPqNRvMasx"
      }
    },
    {
      "cell_type": "markdown",
      "source": [
        "5. (9б). Створіть клас 3D-фігура без атрибутів, з методом get_volume для отримання об'єму фігури, що повертає 0 та __add __, який приймає self та other в якості аргументів, а повертає суму об'ємів 3d-фігур self та other."
      ],
      "metadata": {
        "id": "-6X8EGfjMd2y"
      }
    },
    {
      "cell_type": "code",
      "source": [
        "class Shape3D:\n",
        "    def get_volume(self):\n",
        "        return 0\n",
        "\n",
        "    def __add__(self, other):\n",
        "        if isinstance(other, Shape3D):\n",
        "            return self.get_volume() + other.get_volume()\n",
        "        raise TypeError(\"Can only add another Shape3D instance\")\n",
        "\n",
        "# example\n",
        "shape1 = Shape3D()\n",
        "shape2 = Shape3D()\n",
        "print(f\"Сума об'ємів: {shape1 + shape2}\")\n"
      ],
      "metadata": {
        "id": "4rvO_wYUMaEr"
      },
      "execution_count": null,
      "outputs": []
    },
    {
      "cell_type": "markdown",
      "source": [
        "6. (11б). Створіть 2 дочірніх класи від 3d-фігура: Циліндр та Куб, які мають атрибути, необхідні для розрахунку об'єму. Визначте метод get_volume в кожному з них так, щоби вони розраховували об'єм у залежності від формули для кожного типу фігури. Створіть обʼєкт класу Циліндр та обʼєкт класу Куб. Виконайте операцію суми за допомогою оператора + між ними, аби знайти сумарний об'єм."
      ],
      "metadata": {
        "id": "SFcKnnv5Mo_z"
      }
    },
    {
      "cell_type": "code",
      "source": [
        "import math\n",
        "\n",
        "class Shape3D:\n",
        "    def get_volume(self):\n",
        "        return 0\n",
        "\n",
        "    def __add__(self, other):\n",
        "        if isinstance(other, Shape3D):\n",
        "            return self.get_volume() + other.get_volume()\n",
        "        raise TypeError(\"Can only add another Shape3D instance\")\n",
        "\n",
        "class Cylinder(Shape3D):\n",
        "    def __init__(self, radius, height):\n",
        "        self.radius = radius\n",
        "        self.height = height\n",
        "\n",
        "    def get_volume(self):\n",
        "        return math.pi * self.radius ** 2 * self.height\n",
        "\n",
        "class Cube(Shape3D):\n",
        "    def __init__(self, side):\n",
        "        self.side = side\n",
        "\n",
        "    def get_volume(self):\n",
        "        return self.side ** 3\n",
        "\n",
        "# example of use\n",
        "cylinder = Cylinder(3, 5)\n",
        "cube = Cube(4)\n",
        "\n",
        "# sum of the objects\n",
        "print(f\"Сума об'ємів: {cylinder + cube}\")\n"
      ],
      "metadata": {
        "id": "H3GVNr69Muf3"
      },
      "execution_count": null,
      "outputs": []
    },
    {
      "cell_type": "markdown",
      "source": [
        "7. (3б). Продемонструйте різницю між isinstance та issubclass."
      ],
      "metadata": {
        "id": "HCvR206YMvLK"
      }
    },
    {
      "cell_type": "code",
      "source": [
        "import math\n",
        "\n",
        "class Shape3D:\n",
        "    def get_volume(self):\n",
        "        return 0\n",
        "\n",
        "    def __add__(self, other):\n",
        "        if isinstance(other, Shape3D):\n",
        "            return self.get_volume() + other.get_volume()\n",
        "        raise TypeError(\"Can only add another Shape3D instance\")\n",
        "\n",
        "class Cylinder(Shape3D):\n",
        "    def __init__(self, radius, height):\n",
        "        self.radius = radius\n",
        "        self.height = height\n",
        "\n",
        "    def get_volume(self):\n",
        "        return math.pi * self.radius ** 2 * self.height\n",
        "\n",
        "class Cube(Shape3D):\n",
        "    def __init__(self, side):\n",
        "        self.side = side\n",
        "\n",
        "    def get_volume(self):\n",
        "        return self.side ** 3\n",
        "\n",
        "# example\n",
        "cylinder = Cylinder(3, 5)\n",
        "cube = Cube(4)\n",
        "\n",
        "# sum of objects\n",
        "print(f\"Сума об'ємів: {cylinder + cube}\")\n",
        "\n",
        "# demonstration of isinstance та issubclass\n",
        "print(isinstance(cylinder, Shape3D))  # True, оскільки Cylinder є підкласом Shape3D\n",
        "print(isinstance(cube, Cylinder))     # False, оскільки Cube не є підкласом Cylinder\n",
        "print(issubclass(Cylinder, Shape3D))  # True, оскільки Cylinder є підкласом Shape3D\n",
        "print(issubclass(Cube, Cylinder))     # False, оскільки Cube не є підкласом Cylinder\n"
      ],
      "metadata": {
        "id": "L_V1bBvDM0GN"
      },
      "execution_count": null,
      "outputs": []
    },
    {
      "cell_type": "markdown",
      "source": [
        "8. (13б). Створіть клас EWallet з приватними атрибутами balance та id. Реалізуйте методи поповнення та зняття коштів, забезпечивши належну інкапсуляцію. Підказка: використовуйте декоратори property та setter."
      ],
      "metadata": {
        "id": "jjsaBZ-iM0Qq"
      }
    },
    {
      "cell_type": "code",
      "source": [
        "import math\n",
        "\n",
        "class Shape3D:\n",
        "    def get_volume(self):\n",
        "        return 0\n",
        "\n",
        "    def __add__(self, other):\n",
        "        if isinstance(other, Shape3D):\n",
        "            return self.get_volume() + other.get_volume()\n",
        "        raise TypeError(\"Can only add another Shape3D instance\")\n",
        "\n",
        "class Cylinder(Shape3D):\n",
        "    def __init__(self, radius, height):\n",
        "        self.radius = radius\n",
        "        self.height = height\n",
        "\n",
        "    def get_volume(self):\n",
        "        return math.pi * self.radius ** 2 * self.height\n",
        "\n",
        "class Cube(Shape3D):\n",
        "    def __init__(self, side):\n",
        "        self.side = side\n",
        "\n",
        "    def get_volume(self):\n",
        "        return self.side ** 3\n",
        "\n",
        "# Example usage\n",
        "cylinder = Cylinder(3, 5)\n",
        "cube = Cube(4)\n",
        "\n",
        "# Calculating total volume\n",
        "print(f\"Total volume: {cylinder + cube}\")\n",
        "\n",
        "# Demonstrating isinstance and issubclass\n",
        "print(isinstance(cylinder, Shape3D))  # True, because Cylinder is a subclass of Shape3D\n",
        "print(isinstance(cube, Cylinder))     # False, because Cube is not a subclass of Cylinder\n",
        "print(issubclass(Cylinder, Shape3D))  # True, because Cylinder is a subclass of Shape3D\n",
        "print(issubclass(Cube, Cylinder))     # False, because Cube is not a subclass of Cylinder\n",
        "\n",
        "class EWallet:\n",
        "    def __init__(self, wallet_id, initial_balance=0):\n",
        "        self.__id = wallet_id\n",
        "        self.__balance = initial_balance\n",
        "\n",
        "    @property\n",
        "    def balance(self):\n",
        "        return self.__balance\n",
        "\n",
        "    def deposit(self, amount):\n",
        "        if amount > 0:\n",
        "            self.__balance += amount\n",
        "            return f\"Successfully deposited {amount}. New balance: {self.__balance}\"\n",
        "        return \"Deposit amount must be positive.\"\n",
        "\n",
        "    def withdraw(self, amount):\n",
        "        if 0 < amount <= self.__balance:\n",
        "            self.__balance -= amount\n",
        "            return f\"Successfully withdrew {amount}. New balance: {self.__balance}\"\n",
        "        return \"Insufficient funds or invalid amount.\"\n",
        "\n",
        "# Example usage\n",
        "wallet = EWallet(\"W12345\", 100)\n",
        "print(wallet.deposit(50))  # Deposit\n",
        "print(wallet.withdraw(30)) # Withdraw\n",
        "print(wallet.balance)      # Check balance\n"
      ],
      "metadata": {
        "id": "xCvZ7lh8M7YA"
      },
      "execution_count": null,
      "outputs": []
    },
    {
      "cell_type": "markdown",
      "source": [
        "9. (11б). Створіть клас ShoppingCart, який містить список об'єктів типу Item. Реалізуйте методи для додавання айтемів, їх видалення та відображення списку айтемів."
      ],
      "metadata": {
        "id": "tIzL2SJTM8ft"
      }
    },
    {
      "cell_type": "code",
      "source": [
        "class Item:\n",
        "    def __init__(self, name, price):\n",
        "        self.name = name\n",
        "        self.price = price\n",
        "\n",
        "class ShoppingCart:\n",
        "    def __init__(self):\n",
        "        self.items = []\n",
        "\n",
        "    def add_item(self, item):\n",
        "        \"\"\"Add an item to the shopping cart.\"\"\"\n",
        "        self.items.append(item)\n",
        "\n",
        "    def remove_item(self, item):\n",
        "        \"\"\"Remove an item from the shopping cart.\"\"\"\n",
        "        if item in self.items:\n",
        "            self.items.remove(item)\n",
        "        else:\n",
        "            return \"Item not found in the cart.\"\n",
        "\n",
        "    def show_items(self):\n",
        "        \"\"\"Display all items in the shopping cart.\"\"\"\n",
        "        if not self.items:\n",
        "            return \"Your cart is empty.\"\n",
        "        return [f\"{item.name}: ${item.price}\" for item in self.items]\n",
        "\n",
        "# Example usage\n",
        "cart = ShoppingCart()\n",
        "item1 = Item(\"Laptop\", 999.99)\n",
        "item2 = Item(\"Phone\", 499.99)\n",
        "\n",
        "cart.add_item(item1)\n",
        "cart.add_item(item2)\n",
        "\n",
        "print(cart.show_items())  # Display items in cart\n",
        "\n",
        "cart.remove_item(item1)\n",
        "\n",
        "print(cart.show_items())  # Display items after removing one\n"
      ],
      "metadata": {
        "id": "HWxfJKLtNAUZ",
        "colab": {
          "base_uri": "https://localhost:8080/"
        },
        "outputId": "324f1804-e428-47a7-e2ba-7413769eca8e"
      },
      "execution_count": 2,
      "outputs": [
        {
          "output_type": "stream",
          "name": "stdout",
          "text": [
            "['Laptop: $999.99', 'Phone: $499.99']\n",
            "['Phone: $499.99']\n"
          ]
        }
      ]
    },
    {
      "cell_type": "markdown",
      "source": [
        "10. (13б). Створіть клас Vehicle з атрибутами brand (manufacturer) та production_age. Створіть ще один клас Engine з такими атрибутами, як type (ex. petrol) та size (volume, litres). Створіть клас Car, який успадковує обидва класи Vehicle та Engine. Продемонструйте використання множинної спадковості, створивши обʼєкт класу Car та отримавши mro для цього класу."
      ],
      "metadata": {
        "id": "lmV8pAwwNIqu"
      }
    },
    {
      "cell_type": "code",
      "source": [
        "class Vehicle:\n",
        "    def __init__(self, brand, production_age):\n",
        "        self.brand = brand\n",
        "        self.production_age = production_age\n",
        "\n",
        "class Engine:\n",
        "    def __init__(self, type, size):\n",
        "        self.type = type  # e.g., petrol, diesel\n",
        "        self.size = size  # in litres\n",
        "\n",
        "class Car(Vehicle, Engine):\n",
        "    def __init__(self, brand, production_age, engine_type, engine_size):\n",
        "        Vehicle.__init__(self, brand, production_age)\n",
        "        Engine.__init__(self, engine_type, engine_size)\n",
        "\n",
        "# Example usage\n",
        "car = Car(\"Toyota\", 5, \"Petrol\", 2.0)\n",
        "\n",
        "# Displaying the MRO (Method Resolution Order)\n",
        "print(Car.mro())  # This will show the method resolution order for the Car class\n"
      ],
      "metadata": {
        "id": "R49grKlWNPeN",
        "colab": {
          "base_uri": "https://localhost:8080/"
        },
        "outputId": "37d04a48-ffec-4d19-a74a-7b22141ec023"
      },
      "execution_count": 3,
      "outputs": [
        {
          "output_type": "stream",
          "name": "stdout",
          "text": [
            "[<class '__main__.Car'>, <class '__main__.Vehicle'>, <class '__main__.Engine'>, <class 'object'>]\n"
          ]
        }
      ]
    },
    {
      "cell_type": "markdown",
      "source": [
        "# II. Iterator"
      ],
      "metadata": {
        "id": "dIJyUiNBFG8G"
      }
    },
    {
      "cell_type": "markdown",
      "source": [
        "11. (4б). Визначте рядок(str) з 4ма різними за значенням символами. Створіть ітератор на основі цього рядка. Викличте 5 разів функцію next на ітераторі, 4ри перших з них огорніть у ф-цію print()."
      ],
      "metadata": {
        "id": "13vsm0NyKIzL"
      }
    },
    {
      "cell_type": "code",
      "source": [
        "# Define a string with 4 different characters\n",
        "my_string = \"abcd\"\n",
        "\n",
        "# Create an iterator based on the string\n",
        "iterator = iter(my_string)\n",
        "\n",
        "# Call the next function 5 times, printing the first 4 results\n",
        "print(next(iterator))  # Output: a\n",
        "print(next(iterator))  # Output: b\n",
        "print(next(iterator))  # Output: c\n",
        "print(next(iterator))  # Output: d\n",
        "\n",
        "# The 5th call will raise StopIteration\n",
        "try:\n",
        "    print(next(iterator))\n",
        "except StopIteration:\n",
        "    print(\"Iteration has ended.\")\n"
      ],
      "metadata": {
        "id": "81ntabAkKuz-",
        "colab": {
          "base_uri": "https://localhost:8080/"
        },
        "outputId": "e3fa2d2e-3960-4f64-dd06-0586b1e81887"
      },
      "execution_count": 4,
      "outputs": [
        {
          "output_type": "stream",
          "name": "stdout",
          "text": [
            "a\n",
            "b\n",
            "c\n",
            "d\n",
            "Iteration has ended.\n"
          ]
        }
      ]
    },
    {
      "cell_type": "markdown",
      "source": [
        "А що якщо викликати цю ж функцію на рядку?"
      ],
      "metadata": {
        "id": "aekWHGXOLRsO"
      }
    },
    {
      "cell_type": "code",
      "source": [
        "# Define a string with 4 different characters\n",
        "my_string = \"abcd\"\n",
        "\n",
        "# Try calling next() directly on the string\n",
        "print(next(my_string))  # This will raise a TypeError\n"
      ],
      "metadata": {
        "id": "mxATGsErLV1i",
        "colab": {
          "base_uri": "https://localhost:8080/",
          "height": 176
        },
        "outputId": "53ed44e0-495f-4a6a-f3c4-165d54e810c6"
      },
      "execution_count": 7,
      "outputs": [
        {
          "output_type": "error",
          "ename": "TypeError",
          "evalue": "'str' object is not an iterator",
          "traceback": [
            "\u001b[0;31m---------------------------------------------------------------------------\u001b[0m",
            "\u001b[0;31mTypeError\u001b[0m                                 Traceback (most recent call last)",
            "\u001b[0;32m<ipython-input-7-89d1cecf14d5>\u001b[0m in \u001b[0;36m<cell line: 0>\u001b[0;34m()\u001b[0m\n\u001b[1;32m      3\u001b[0m \u001b[0;34m\u001b[0m\u001b[0m\n\u001b[1;32m      4\u001b[0m \u001b[0;31m# Try calling next() directly on the string\u001b[0m\u001b[0;34m\u001b[0m\u001b[0;34m\u001b[0m\u001b[0m\n\u001b[0;32m----> 5\u001b[0;31m \u001b[0mprint\u001b[0m\u001b[0;34m(\u001b[0m\u001b[0mnext\u001b[0m\u001b[0;34m(\u001b[0m\u001b[0mmy_string\u001b[0m\u001b[0;34m)\u001b[0m\u001b[0;34m)\u001b[0m  \u001b[0;31m# This will raise a TypeError\u001b[0m\u001b[0;34m\u001b[0m\u001b[0;34m\u001b[0m\u001b[0m\n\u001b[0m",
            "\u001b[0;31mTypeError\u001b[0m: 'str' object is not an iterator"
          ]
        }
      ]
    },
    {
      "cell_type": "markdown",
      "source": [
        " 12. (5б). Опишіть своїми словами в одному реченні, як ви розумієте різницю між ітерабельними обʼєктами та ітераторами (можна на прикладі)."
      ],
      "metadata": {
        "id": "XwtMEopwJ4pH"
      }
    },
    {
      "cell_type": "markdown",
      "source": [
        "Ітерабельні об'єкти — це об'єкти, по яких можна проходити за допомогою циклів, як-от списки або рядки, а ітератори — це об'єкти, що дозволяють отримувати елементи один за одним через виклик next(), наприклад, ітератор, створений за допомогою iter() для рядка або списку.*місце для відповіді"
      ],
      "metadata": {
        "id": "-sHrODc3KFn8"
      }
    },
    {
      "cell_type": "markdown",
      "source": [
        "13. (11б). Створіть клас, що має визначений Iterator Protocol та при кожному виклику next повертає назву дня тижня, поки вони не вичерпаються. Зверніть увагу, що порядок має значення."
      ],
      "metadata": {
        "id": "E9qJWmNbK8Gl"
      }
    },
    {
      "cell_type": "code",
      "source": [
        "class WeekdayIterator:\n",
        "    def __init__(self):\n",
        "        # List of days of the week in order from Monday to Sunday\n",
        "        self.days_of_week = [\"Monday\", \"Tuesday\", \"Wednesday\", \"Thursday\", \"Friday\", \"Saturday\", \"Sunday\"]\n",
        "        # Index to keep track of the current day\n",
        "        self.index = 0\n",
        "\n",
        "    def __iter__(self):\n",
        "        # Returns the iterator object itself\n",
        "        return self\n",
        "\n",
        "    def __next__(self):\n",
        "        # Checks if there are more days in the list\n",
        "        if self.index < len(self.days_of_week):\n",
        "            # Returns the current day of the week\n",
        "            day = self.days_of_week[self.index]\n",
        "            self.index += 1  # Moves to the next day\n",
        "            return day\n",
        "        else:\n",
        "            # Raises StopIteration when all days are exhausted\n",
        "            raise StopIteration\n",
        "\n",
        "\n",
        "# Example usage\n",
        "weekday_iterator = WeekdayIterator()\n",
        "\n",
        "# Calls next() on the iterator until all days of the week are exhausted\n",
        "for day in weekday_iterator:\n",
        "    print(day)\n"
      ],
      "metadata": {
        "id": "cqx-g_RsLo6I",
        "colab": {
          "base_uri": "https://localhost:8080/"
        },
        "outputId": "f1f0fe78-7bc7-45b9-a7bc-34f90366c8d8"
      },
      "execution_count": 8,
      "outputs": [
        {
          "output_type": "stream",
          "name": "stdout",
          "text": [
            "Monday\n",
            "Tuesday\n",
            "Wednesday\n",
            "Thursday\n",
            "Friday\n",
            "Saturday\n",
            "Sunday\n"
          ]
        }
      ]
    },
    {
      "cell_type": "markdown",
      "source": [
        "# Вітаю! Ви велика(ий) молодець, що впоралась(вся). Похваліть себе та побалуйте чимось приємним. Я Вами пишаюся."
      ],
      "metadata": {
        "id": "Z3E3S_s1Fv7-"
      }
    }
  ]
}